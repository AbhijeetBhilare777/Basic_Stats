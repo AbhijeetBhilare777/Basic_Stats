{
 "cells": [
  {
   "cell_type": "markdown",
   "id": "d5978c1a",
   "metadata": {},
   "source": [
    "# Log\n",
    "### 1. Log Transformation\n",
    "### 2. Data with outliers and which are hard to compare"
   ]
  },
  {
   "cell_type": "code",
   "execution_count": 1,
   "id": "9922bb95",
   "metadata": {},
   "outputs": [],
   "source": [
    "import pandas as pd\n",
    "import matplotlib.pyplot as plt\n",
    "%matplotlib inline\n",
    "import matplotlib\n",
    "import numpy as np"
   ]
  },
  {
   "cell_type": "code",
   "execution_count": 2,
   "id": "c7eae393",
   "metadata": {},
   "outputs": [
    {
     "data": {
      "text/html": [
       "<div>\n",
       "<style scoped>\n",
       "    .dataframe tbody tr th:only-of-type {\n",
       "        vertical-align: middle;\n",
       "    }\n",
       "\n",
       "    .dataframe tbody tr th {\n",
       "        vertical-align: top;\n",
       "    }\n",
       "\n",
       "    .dataframe thead th {\n",
       "        text-align: right;\n",
       "    }\n",
       "</style>\n",
       "<table border=\"1\" class=\"dataframe\">\n",
       "  <thead>\n",
       "    <tr style=\"text-align: right;\">\n",
       "      <th></th>\n",
       "      <th>Company</th>\n",
       "      <th>Revenue</th>\n",
       "    </tr>\n",
       "  </thead>\n",
       "  <tbody>\n",
       "    <tr>\n",
       "      <th>0</th>\n",
       "      <td>Tesla</td>\n",
       "      <td>31.0</td>\n",
       "    </tr>\n",
       "    <tr>\n",
       "      <th>1</th>\n",
       "      <td>Uber</td>\n",
       "      <td>11.0</td>\n",
       "    </tr>\n",
       "    <tr>\n",
       "      <th>2</th>\n",
       "      <td>Amazon</td>\n",
       "      <td>386.0</td>\n",
       "    </tr>\n",
       "    <tr>\n",
       "      <th>3</th>\n",
       "      <td>Jindal Steels</td>\n",
       "      <td>4.7</td>\n",
       "    </tr>\n",
       "    <tr>\n",
       "      <th>4</th>\n",
       "      <td>Axis bank</td>\n",
       "      <td>5.6</td>\n",
       "    </tr>\n",
       "    <tr>\n",
       "      <th>5</th>\n",
       "      <td>Vedanta</td>\n",
       "      <td>11.3</td>\n",
       "    </tr>\n",
       "  </tbody>\n",
       "</table>\n",
       "</div>"
      ],
      "text/plain": [
       "         Company  Revenue\n",
       "0          Tesla     31.0\n",
       "1           Uber     11.0\n",
       "2         Amazon    386.0\n",
       "3  Jindal Steels      4.7\n",
       "4      Axis bank      5.6\n",
       "5        Vedanta     11.3"
      ]
     },
     "execution_count": 2,
     "metadata": {},
     "output_type": "execute_result"
    }
   ],
   "source": [
    "df = pd.DataFrame({'Company':['Tesla', 'Uber', 'Amazon', 'Jindal Steels', 'Axis bank', 'Vedanta'],\n",
    "                  'Revenue':[31,11,386,4.7,5.6,11.3]})\n",
    "df"
   ]
  },
  {
   "cell_type": "code",
   "execution_count": 3,
   "id": "cebb28fc",
   "metadata": {},
   "outputs": [
    {
     "data": {
      "text/plain": [
       "<AxesSubplot:xlabel='Company'>"
      ]
     },
     "execution_count": 3,
     "metadata": {},
     "output_type": "execute_result"
    },
    {
     "data": {
      "image/png": "[encoded data removed]",
      "text/plain": [
       "<Figure size 432x288 with 1 Axes>"
      ]
     },
     "metadata": {
      "needs_background": "light"
     },
     "output_type": "display_data"
    }
   ],
   "source": [
    "df.plot(x='Company', y='Revenue', kind='bar')"
   ]
  },
  {
   "cell_type": "markdown",
   "id": "726268f1",
   "metadata": {},
   "source": [
    "#### As we can see in above figure Amazon's revenue is far more than other companies (outlier) its very hard to compare between lets say Jindal steels and Axis bank.\n",
    "#### By using Log transformation we can transform and see the bar chart as below and can see significant difference"
   ]
  },
  {
   "cell_type": "code",
   "execution_count": 4,
   "id": "1d329510",
   "metadata": {},
   "outputs": [
    {
     "data": {
      "text/plain": [
       "<AxesSubplot:xlabel='Company'>"
      ]
     },
     "execution_count": 4,
     "metadata": {},
     "output_type": "execute_result"
    },
    {
     "data": {
      "image/png": "[encoded data removed]",
      "text/plain": [
       "<Figure size 432x288 with 1 Axes>"
      ]
     },
     "metadata": {
      "needs_background": "light"
     },
     "output_type": "display_data"
    }
   ],
   "source": [
    "df.plot(x='Company', y='Revenue', kind='bar', logy=True)"
   ]
  },
  {
   "cell_type": "markdown",
   "id": "33f1f236",
   "metadata": {},
   "source": [
    "## Log Transformation\n",
    "https://www.geeksforgeeks.org/log-and-natural-logarithmic-value-of-a-column-in-pandas-python/"
   ]
  },
  {
   "cell_type": "code",
   "execution_count": 5,
   "id": "e8a5e803",
   "metadata": {},
   "outputs": [
    {
     "data": {
      "text/html": [
       "<div>\n",
       "<style scoped>\n",
       "    .dataframe tbody tr th:only-of-type {\n",
       "        vertical-align: middle;\n",
       "    }\n",
       "\n",
       "    .dataframe tbody tr th {\n",
       "        vertical-align: top;\n",
       "    }\n",
       "\n",
       "    .dataframe thead th {\n",
       "        text-align: right;\n",
       "    }\n",
       "</style>\n",
       "<table border=\"1\" class=\"dataframe\">\n",
       "  <thead>\n",
       "    <tr style=\"text-align: right;\">\n",
       "      <th></th>\n",
       "      <th>Name</th>\n",
       "      <th>Credit_Score</th>\n",
       "      <th>Income</th>\n",
       "      <th>Age</th>\n",
       "      <th>Loan-Approved</th>\n",
       "    </tr>\n",
       "  </thead>\n",
       "  <tbody>\n",
       "    <tr>\n",
       "      <th>0</th>\n",
       "      <td>Abhi</td>\n",
       "      <td>750</td>\n",
       "      <td>80000</td>\n",
       "      <td>32</td>\n",
       "      <td>1</td>\n",
       "    </tr>\n",
       "    <tr>\n",
       "      <th>1</th>\n",
       "      <td>Satya</td>\n",
       "      <td>310</td>\n",
       "      <td>32000</td>\n",
       "      <td>45</td>\n",
       "      <td>0</td>\n",
       "    </tr>\n",
       "    <tr>\n",
       "      <th>2</th>\n",
       "      <td>Surya</td>\n",
       "      <td>475</td>\n",
       "      <td>77000</td>\n",
       "      <td>33</td>\n",
       "      <td>1</td>\n",
       "    </tr>\n",
       "    <tr>\n",
       "      <th>3</th>\n",
       "      <td>Ravi</td>\n",
       "      <td>600</td>\n",
       "      <td>65000</td>\n",
       "      <td>51</td>\n",
       "      <td>0</td>\n",
       "    </tr>\n",
       "    <tr>\n",
       "      <th>4</th>\n",
       "      <td>Vijay</td>\n",
       "      <td>820</td>\n",
       "      <td>550000</td>\n",
       "      <td>35</td>\n",
       "      <td>1</td>\n",
       "    </tr>\n",
       "    <tr>\n",
       "      <th>5</th>\n",
       "      <td>Shiju</td>\n",
       "      <td>780</td>\n",
       "      <td>75000</td>\n",
       "      <td>31</td>\n",
       "      <td>1</td>\n",
       "    </tr>\n",
       "  </tbody>\n",
       "</table>\n",
       "</div>"
      ],
      "text/plain": [
       "    Name  Credit_Score  Income  Age  Loan-Approved\n",
       "0   Abhi           750   80000   32              1\n",
       "1  Satya           310   32000   45              0\n",
       "2  Surya           475   77000   33              1\n",
       "3   Ravi           600   65000   51              0\n",
       "4  Vijay           820  550000   35              1\n",
       "5  Shiju           780   75000   31              1"
      ]
     },
     "execution_count": 5,
     "metadata": {},
     "output_type": "execute_result"
    }
   ],
   "source": [
    "df_cs = pd.DataFrame({\"Name\":['Abhi', 'Satya', 'Surya', 'Ravi', 'Vijay', 'Shiju'],\n",
    "                     \"Credit_Score\":[750,310,475,600,820,780],\n",
    "                     \"Income\":[80000,32000,77000,65000,550000,75000],\n",
    "                     \"Age\":[32,45,33,51,35,31],\n",
    "                     \"Loan-Approved\":[1,0,1,0,1,1]})\n",
    "df_cs"
   ]
  },
  {
   "cell_type": "code",
   "execution_count": 6,
   "id": "438df2c4",
   "metadata": {},
   "outputs": [
    {
     "data": {
      "text/plain": [
       "<AxesSubplot:xlabel='Name'>"
      ]
     },
     "execution_count": 6,
     "metadata": {},
     "output_type": "execute_result"
    },
    {
     "data": {
      "image/png": "[encoded data removed]",
      "text/plain": [
       "<Figure size 432x288 with 1 Axes>"
      ]
     },
     "metadata": {
      "needs_background": "light"
     },
     "output_type": "display_data"
    }
   ],
   "source": [
    "df_cs.plot(x='Name', y='Income', kind='bar', logy=True)"
   ]
  },
  {
   "cell_type": "code",
   "execution_count": 8,
   "id": "65f9d4a6",
   "metadata": {},
   "outputs": [
    {
     "data": {
      "text/html": [
       "<div>\n",
       "<style scoped>\n",
       "    .dataframe tbody tr th:only-of-type {\n",
       "        vertical-align: middle;\n",
       "    }\n",
       "\n",
       "    .dataframe tbody tr th {\n",
       "        vertical-align: top;\n",
       "    }\n",
       "\n",
       "    .dataframe thead th {\n",
       "        text-align: right;\n",
       "    }\n",
       "</style>\n",
       "<table border=\"1\" class=\"dataframe\">\n",
       "  <thead>\n",
       "    <tr style=\"text-align: right;\">\n",
       "      <th></th>\n",
       "      <th>Name</th>\n",
       "      <th>Credit_Score</th>\n",
       "      <th>Income</th>\n",
       "      <th>Age</th>\n",
       "      <th>Loan-Approved</th>\n",
       "      <th>log_base2</th>\n",
       "      <th>log_base10</th>\n",
       "      <th>log_natural</th>\n",
       "    </tr>\n",
       "  </thead>\n",
       "  <tbody>\n",
       "    <tr>\n",
       "      <th>0</th>\n",
       "      <td>Abhi</td>\n",
       "      <td>750</td>\n",
       "      <td>80000</td>\n",
       "      <td>32</td>\n",
       "      <td>1</td>\n",
       "      <td>16.287712</td>\n",
       "      <td>4.903090</td>\n",
       "      <td>11.289782</td>\n",
       "    </tr>\n",
       "    <tr>\n",
       "      <th>1</th>\n",
       "      <td>Satya</td>\n",
       "      <td>310</td>\n",
       "      <td>32000</td>\n",
       "      <td>45</td>\n",
       "      <td>0</td>\n",
       "      <td>14.965784</td>\n",
       "      <td>4.505150</td>\n",
       "      <td>10.373491</td>\n",
       "    </tr>\n",
       "    <tr>\n",
       "      <th>2</th>\n",
       "      <td>Surya</td>\n",
       "      <td>475</td>\n",
       "      <td>77000</td>\n",
       "      <td>33</td>\n",
       "      <td>1</td>\n",
       "      <td>16.232571</td>\n",
       "      <td>4.886491</td>\n",
       "      <td>11.251561</td>\n",
       "    </tr>\n",
       "    <tr>\n",
       "      <th>3</th>\n",
       "      <td>Ravi</td>\n",
       "      <td>600</td>\n",
       "      <td>65000</td>\n",
       "      <td>51</td>\n",
       "      <td>0</td>\n",
       "      <td>15.988152</td>\n",
       "      <td>4.812913</td>\n",
       "      <td>11.082143</td>\n",
       "    </tr>\n",
       "    <tr>\n",
       "      <th>4</th>\n",
       "      <td>Vijay</td>\n",
       "      <td>820</td>\n",
       "      <td>550000</td>\n",
       "      <td>35</td>\n",
       "      <td>1</td>\n",
       "      <td>19.069072</td>\n",
       "      <td>5.740363</td>\n",
       "      <td>13.217674</td>\n",
       "    </tr>\n",
       "    <tr>\n",
       "      <th>5</th>\n",
       "      <td>Shiju</td>\n",
       "      <td>780</td>\n",
       "      <td>75000</td>\n",
       "      <td>31</td>\n",
       "      <td>1</td>\n",
       "      <td>16.194603</td>\n",
       "      <td>4.875061</td>\n",
       "      <td>11.225243</td>\n",
       "    </tr>\n",
       "  </tbody>\n",
       "</table>\n",
       "</div>"
      ],
      "text/plain": [
       "    Name  Credit_Score  Income  Age  Loan-Approved  log_base2  log_base10  \\\n",
       "0   Abhi           750   80000   32              1  16.287712    4.903090   \n",
       "1  Satya           310   32000   45              0  14.965784    4.505150   \n",
       "2  Surya           475   77000   33              1  16.232571    4.886491   \n",
       "3   Ravi           600   65000   51              0  15.988152    4.812913   \n",
       "4  Vijay           820  550000   35              1  19.069072    5.740363   \n",
       "5  Shiju           780   75000   31              1  16.194603    4.875061   \n",
       "\n",
       "   log_natural  \n",
       "0    11.289782  \n",
       "1    10.373491  \n",
       "2    11.251561  \n",
       "3    11.082143  \n",
       "4    13.217674  \n",
       "5    11.225243  "
      ]
     },
     "execution_count": 8,
     "metadata": {},
     "output_type": "execute_result"
    }
   ],
   "source": [
    "df_cs['log_base2'] = np.log2(df_cs['Income'])\n",
    "df_cs['log_base10'] = np.log10(df_cs['Income'])\n",
    "df_cs['log_natural'] = np.log(df_cs['Income'])\n",
    "df_cs"
   ]
  },
  {
   "cell_type": "code",
   "execution_count": null,
   "id": "3cd68c87",
   "metadata": {},
   "outputs": [],
   "source": []
  },
  {
   "cell_type": "code",
   "execution_count": null,
   "id": "798b9384",
   "metadata": {},
   "outputs": [],
   "source": []
  },
  {
   "cell_type": "code",
   "execution_count": null,
   "id": "d2e87820",
   "metadata": {},
   "outputs": [],
   "source": []
  },
  {
   "cell_type": "code",
   "execution_count": null,
   "id": "4448c1ae",
   "metadata": {},
   "outputs": [],
   "source": []
  }
 ],
 "metadata": {
  "kernelspec": {
   "display_name": "Python 3 (ipykernel)",
   "language": "python",
   "name": "python3"
  },
  "language_info": {
   "codemirror_mode": {
    "name": "ipython",
    "version": 3
   },
   "file_extension": ".py",
   "mimetype": "text/x-python",
   "name": "python",
   "nbconvert_exporter": "python",
   "pygments_lexer": "ipython3",
   "version": "3.9.7"
  }
 },
 "nbformat": 4,
 "nbformat_minor": 5
}
